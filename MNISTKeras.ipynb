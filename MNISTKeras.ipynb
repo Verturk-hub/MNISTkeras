{
  "nbformat": 4,
  "nbformat_minor": 0,
  "metadata": {
    "colab": {
      "name": "MNISTKeras.ipynb",
      "provenance": []
    },
    "kernelspec": {
      "name": "python3",
      "display_name": "Python 3"
    },
    "language_info": {
      "name": "python"
    }
  },
  "cells": [
    {
      "cell_type": "code",
      "source": [
        "import tensorflow as tf\n",
        "from tensorflow.keras import layers\n",
        "import matplotlib.pyplot as plt\n"
      ],
      "metadata": {
        "id": "JT2vpm0L2sFp"
      },
      "execution_count": 6,
      "outputs": []
    },
    {
      "cell_type": "code",
      "execution_count": 7,
      "metadata": {
        "id": "hz0B47mA02_J"
      },
      "outputs": [],
      "source": [
        "(x_train, y_train),(x_test,y_test) = tf.keras.datasets.mnist.load_data()"
      ]
    },
    {
      "cell_type": "code",
      "source": [
        "x_train[2000]\n",
        "plt.imshow(x_train[2000])"
      ],
      "metadata": {
        "colab": {
          "base_uri": "https://localhost:8080/",
          "height": 282
        },
        "id": "hyGzVry_3Kcr",
        "outputId": "c4d769bf-4c28-46e8-a937-a50a44e0bea9"
      },
      "execution_count": 8,
      "outputs": [
        {
          "output_type": "execute_result",
          "data": {
            "text/plain": [
              "<matplotlib.image.AxesImage at 0x7f38e32f43d0>"
            ]
          },
          "metadata": {},
          "execution_count": 8
        },
        {
          "output_type": "display_data",
          "data": {
            "text/plain": [
              "<Figure size 432x288 with 1 Axes>"
            ],
            "image/png": "[encoded data removed]"
          },
          "metadata": {
            "needs_background": "light"
          }
        }
      ]
    },
    {
      "cell_type": "code",
      "source": [
        "x_train_normalized = x_train / 255\n",
        "y_train_normalized = y_train / 255"
      ],
      "metadata": {
        "id": "jKueHj_t3vOY"
      },
      "execution_count": 9,
      "outputs": []
    },
    {
      "cell_type": "code",
      "source": [
        "my_learning_rate = 0.003\n",
        "epochs = 50\n",
        "batch_size = 4000\n",
        "validation_split = 0.2\n"
      ],
      "metadata": {
        "id": "5YpVfd-1-HLO"
      },
      "execution_count": 10,
      "outputs": []
    },
    {
      "cell_type": "code",
      "source": [
        "model=tf.keras.models.Sequential()\n",
        "\n",
        "model.add(tf.keras.layers.Flatten(input_shape=(28,28)))\n",
        "model.add(tf.keras.layers.Dense(units=32, activation='relu'))\n",
        "model.add(tf.keras.layers.Dropout(rate=0.2))\n",
        "model.add(tf.keras.layers.Dense(units=10, activation='softmax'))\n",
        "\n",
        "model.compile(optimizer=tf.keras.optimizers.Adam(lr=my_learning_rate), \n",
        "              loss='sparse_categorical_crossentropy',\n",
        "              metrics = ['accuracy'])\n"
      ],
      "metadata": {
        "colab": {
          "base_uri": "https://localhost:8080/"
        },
        "id": "bM45LS5H7P9-",
        "outputId": "dd7066b3-a1d9-4076-b103-fe7a73171c99"
      },
      "execution_count": 11,
      "outputs": [
        {
          "output_type": "stream",
          "name": "stderr",
          "text": [
            "/usr/local/lib/python3.7/dist-packages/keras/optimizer_v2/adam.py:105: UserWarning: The `lr` argument is deprecated, use `learning_rate` instead.\n",
            "  super(Adam, self).__init__(name, **kwargs)\n"
          ]
        }
      ]
    },
    {
      "cell_type": "code",
      "source": [
        "model.fit(x_train_normalized, y_train, epochs=epochs, batch_size=batch_size, validation_split = validation_split)"
      ],
      "metadata": {
        "colab": {
          "base_uri": "https://localhost:8080/"
        },
        "id": "81CSETUa-hsJ",
        "outputId": "0702bab9-7133-408a-8a65-483128651188"
      },
      "execution_count": 15,
      "outputs": [
        {
          "output_type": "stream",
          "name": "stdout",
          "text": [
            "Epoch 1/50\n",
            "12/12 [==============================] - 1s 40ms/step - loss: 6.7235 - accuracy: 0.1246 - val_loss: 2.2803 - val_accuracy: 0.1355\n",
            "Epoch 2/50\n",
            "12/12 [==============================] - 0s 28ms/step - loss: 2.2181 - accuracy: 0.1431 - val_loss: 2.1273 - val_accuracy: 0.1906\n",
            "Epoch 3/50\n",
            "12/12 [==============================] - 0s 25ms/step - loss: 2.1274 - accuracy: 0.1672 - val_loss: 2.0640 - val_accuracy: 0.1868\n",
            "Epoch 4/50\n",
            "12/12 [==============================] - 0s 25ms/step - loss: 2.0850 - accuracy: 0.1717 - val_loss: 2.0216 - val_accuracy: 0.2200\n",
            "Epoch 5/50\n",
            "12/12 [==============================] - 0s 27ms/step - loss: 2.0596 - accuracy: 0.1792 - val_loss: 1.9921 - val_accuracy: 0.1940\n",
            "Epoch 6/50\n",
            "12/12 [==============================] - 0s 25ms/step - loss: 2.0094 - accuracy: 0.2128 - val_loss: 1.8713 - val_accuracy: 0.3105\n",
            "Epoch 7/50\n",
            "12/12 [==============================] - 0s 26ms/step - loss: 1.8908 - accuracy: 0.2854 - val_loss: 1.7469 - val_accuracy: 0.3718\n",
            "Epoch 8/50\n",
            "12/12 [==============================] - 0s 25ms/step - loss: 1.8270 - accuracy: 0.2946 - val_loss: 1.6841 - val_accuracy: 0.3758\n",
            "Epoch 9/50\n",
            "12/12 [==============================] - 0s 26ms/step - loss: 1.7886 - accuracy: 0.3103 - val_loss: 1.6393 - val_accuracy: 0.4110\n",
            "Epoch 10/50\n",
            "12/12 [==============================] - 0s 25ms/step - loss: 1.7675 - accuracy: 0.3204 - val_loss: 1.6102 - val_accuracy: 0.4223\n",
            "Epoch 11/50\n",
            "12/12 [==============================] - 0s 26ms/step - loss: 1.7503 - accuracy: 0.3275 - val_loss: 1.5853 - val_accuracy: 0.4293\n",
            "Epoch 12/50\n",
            "12/12 [==============================] - 0s 26ms/step - loss: 1.7307 - accuracy: 0.3416 - val_loss: 1.5637 - val_accuracy: 0.4406\n",
            "Epoch 13/50\n",
            "12/12 [==============================] - 0s 25ms/step - loss: 1.7164 - accuracy: 0.3389 - val_loss: 1.5454 - val_accuracy: 0.4450\n",
            "Epoch 14/50\n",
            "12/12 [==============================] - 0s 26ms/step - loss: 1.7073 - accuracy: 0.3487 - val_loss: 1.5329 - val_accuracy: 0.4475\n",
            "Epoch 15/50\n",
            "12/12 [==============================] - 0s 26ms/step - loss: 1.7009 - accuracy: 0.3447 - val_loss: 1.5208 - val_accuracy: 0.4476\n",
            "Epoch 16/50\n",
            "12/12 [==============================] - 0s 29ms/step - loss: 1.6948 - accuracy: 0.3482 - val_loss: 1.5112 - val_accuracy: 0.4503\n",
            "Epoch 17/50\n",
            "12/12 [==============================] - 0s 26ms/step - loss: 1.6844 - accuracy: 0.3477 - val_loss: 1.4975 - val_accuracy: 0.4435\n",
            "Epoch 18/50\n",
            "12/12 [==============================] - 0s 26ms/step - loss: 1.6763 - accuracy: 0.3492 - val_loss: 1.4879 - val_accuracy: 0.4517\n",
            "Epoch 19/50\n",
            "12/12 [==============================] - 0s 28ms/step - loss: 1.6704 - accuracy: 0.3514 - val_loss: 1.4798 - val_accuracy: 0.4493\n",
            "Epoch 20/50\n",
            "12/12 [==============================] - 0s 26ms/step - loss: 1.6662 - accuracy: 0.3524 - val_loss: 1.4717 - val_accuracy: 0.4441\n",
            "Epoch 21/50\n",
            "12/12 [==============================] - 0s 26ms/step - loss: 1.6659 - accuracy: 0.3468 - val_loss: 1.4673 - val_accuracy: 0.4493\n",
            "Epoch 22/50\n",
            "12/12 [==============================] - 0s 26ms/step - loss: 1.6626 - accuracy: 0.3480 - val_loss: 1.4613 - val_accuracy: 0.4440\n",
            "Epoch 23/50\n",
            "12/12 [==============================] - 0s 25ms/step - loss: 1.6593 - accuracy: 0.3475 - val_loss: 1.4607 - val_accuracy: 0.4461\n",
            "Epoch 24/50\n",
            "12/12 [==============================] - 0s 27ms/step - loss: 1.6506 - accuracy: 0.3495 - val_loss: 1.4515 - val_accuracy: 0.4460\n",
            "Epoch 25/50\n",
            "12/12 [==============================] - 0s 27ms/step - loss: 1.6533 - accuracy: 0.3473 - val_loss: 1.4459 - val_accuracy: 0.4451\n",
            "Epoch 26/50\n",
            "12/12 [==============================] - 0s 25ms/step - loss: 1.6464 - accuracy: 0.3501 - val_loss: 1.4435 - val_accuracy: 0.4455\n",
            "Epoch 27/50\n",
            "12/12 [==============================] - 0s 26ms/step - loss: 1.6472 - accuracy: 0.3481 - val_loss: 1.4409 - val_accuracy: 0.4472\n",
            "Epoch 28/50\n",
            "12/12 [==============================] - 0s 26ms/step - loss: 1.6494 - accuracy: 0.3455 - val_loss: 1.4402 - val_accuracy: 0.4482\n",
            "Epoch 29/50\n",
            "12/12 [==============================] - 0s 26ms/step - loss: 1.6439 - accuracy: 0.3482 - val_loss: 1.4355 - val_accuracy: 0.4482\n",
            "Epoch 30/50\n",
            "12/12 [==============================] - 0s 26ms/step - loss: 1.6411 - accuracy: 0.3496 - val_loss: 1.4336 - val_accuracy: 0.4487\n",
            "Epoch 31/50\n",
            "12/12 [==============================] - 0s 25ms/step - loss: 1.6418 - accuracy: 0.3489 - val_loss: 1.4322 - val_accuracy: 0.4521\n",
            "Epoch 32/50\n",
            "12/12 [==============================] - 0s 27ms/step - loss: 1.6362 - accuracy: 0.3506 - val_loss: 1.4275 - val_accuracy: 0.4495\n",
            "Epoch 33/50\n",
            "12/12 [==============================] - 0s 26ms/step - loss: 1.6370 - accuracy: 0.3494 - val_loss: 1.4287 - val_accuracy: 0.4543\n",
            "Epoch 34/50\n",
            "12/12 [==============================] - 0s 25ms/step - loss: 1.6359 - accuracy: 0.3528 - val_loss: 1.4231 - val_accuracy: 0.4507\n",
            "Epoch 35/50\n",
            "12/12 [==============================] - 0s 27ms/step - loss: 1.6373 - accuracy: 0.3510 - val_loss: 1.4246 - val_accuracy: 0.4536\n",
            "Epoch 36/50\n",
            "12/12 [==============================] - 0s 26ms/step - loss: 1.6333 - accuracy: 0.3521 - val_loss: 1.4188 - val_accuracy: 0.4517\n",
            "Epoch 37/50\n",
            "12/12 [==============================] - 0s 27ms/step - loss: 1.6333 - accuracy: 0.3520 - val_loss: 1.4178 - val_accuracy: 0.4538\n",
            "Epoch 38/50\n",
            "12/12 [==============================] - 0s 26ms/step - loss: 1.6338 - accuracy: 0.3516 - val_loss: 1.4171 - val_accuracy: 0.4552\n",
            "Epoch 39/50\n",
            "12/12 [==============================] - 0s 25ms/step - loss: 1.6367 - accuracy: 0.3496 - val_loss: 1.4170 - val_accuracy: 0.4535\n",
            "Epoch 40/50\n",
            "12/12 [==============================] - 0s 25ms/step - loss: 1.6336 - accuracy: 0.3526 - val_loss: 1.4153 - val_accuracy: 0.4563\n",
            "Epoch 41/50\n",
            "12/12 [==============================] - 0s 26ms/step - loss: 1.6267 - accuracy: 0.3551 - val_loss: 1.4096 - val_accuracy: 0.4542\n",
            "Epoch 42/50\n",
            "12/12 [==============================] - 0s 25ms/step - loss: 1.6292 - accuracy: 0.3526 - val_loss: 1.4098 - val_accuracy: 0.4558\n",
            "Epoch 43/50\n",
            "12/12 [==============================] - 0s 26ms/step - loss: 1.6292 - accuracy: 0.3545 - val_loss: 1.4092 - val_accuracy: 0.4568\n",
            "Epoch 44/50\n",
            "12/12 [==============================] - 0s 26ms/step - loss: 1.6275 - accuracy: 0.3548 - val_loss: 1.4084 - val_accuracy: 0.4588\n",
            "Epoch 45/50\n",
            "12/12 [==============================] - 0s 27ms/step - loss: 1.6255 - accuracy: 0.3557 - val_loss: 1.4048 - val_accuracy: 0.4567\n",
            "Epoch 46/50\n",
            "12/12 [==============================] - 0s 26ms/step - loss: 1.6251 - accuracy: 0.3549 - val_loss: 1.4042 - val_accuracy: 0.4593\n",
            "Epoch 47/50\n",
            "12/12 [==============================] - 0s 25ms/step - loss: 1.6259 - accuracy: 0.3564 - val_loss: 1.3998 - val_accuracy: 0.4590\n",
            "Epoch 48/50\n",
            "12/12 [==============================] - 0s 27ms/step - loss: 1.6216 - accuracy: 0.3566 - val_loss: 1.4049 - val_accuracy: 0.4612\n",
            "Epoch 49/50\n",
            "12/12 [==============================] - 0s 26ms/step - loss: 1.6186 - accuracy: 0.3562 - val_loss: 1.3981 - val_accuracy: 0.4597\n",
            "Epoch 50/50\n",
            "12/12 [==============================] - 0s 26ms/step - loss: 1.6219 - accuracy: 0.3581 - val_loss: 1.3975 - val_accuracy: 0.4626\n"
          ]
        },
        {
          "output_type": "execute_result",
          "data": {
            "text/plain": [
              "<keras.callbacks.History at 0x7f38dc4f4290>"
            ]
          },
          "metadata": {},
          "execution_count": 15
        }
      ]
    }
  ]
}